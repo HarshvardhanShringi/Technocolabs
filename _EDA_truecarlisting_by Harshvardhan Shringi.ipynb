{
 "cells": [
  {
   "cell_type": "code",
   "execution_count": 1,
   "id": "8e74eab8",
   "metadata": {},
   "outputs": [],
   "source": [
    "# LIBRARIES USED\n",
    "\n",
    "import pandas as pd\n",
    "import numpy as np\n",
    "import matplotlib.pyplot as plt\n",
    "import seaborn as sbn\n",
    "import os"
   ]
  },
  {
   "cell_type": "code",
   "execution_count": 2,
   "id": "5d1e4ded",
   "metadata": {},
   "outputs": [
    {
     "data": {
      "text/plain": [
       "'C:\\\\Users\\\\DELL\\\\Downloads'"
      ]
     },
     "execution_count": 2,
     "metadata": {},
     "output_type": "execute_result"
    }
   ],
   "source": [
    "# CHANGING JUPYTER CURRENT WORKING DIRECTORY\n",
    "\n",
    "os.chdir('C:\\\\Users\\\\DELL\\\\Downloads')\n",
    "os.getcwd()"
   ]
  },
  {
   "cell_type": "markdown",
   "id": "32a7764e",
   "metadata": {},
   "source": [
    "#   #              1. LOADING DATASETS"
   ]
  },
  {
   "cell_type": "code",
   "execution_count": 3,
   "id": "01a14bc9",
   "metadata": {},
   "outputs": [],
   "source": [
    "# IMPORTING DATA\n",
    "\n",
    "df=pd.read_csv('tc20171021.csv',on_bad_lines='skip')\n",
    "df1=pd.read_csv('true_car_listings.csv',on_bad_lines='skip')"
   ]
  },
  {
   "cell_type": "markdown",
   "id": "8ab1edb0",
   "metadata": {},
   "source": [
    "   #            2. UNDERSTANDING THE DATA"
   ]
  },
  {
   "cell_type": "code",
   "execution_count": 4,
   "id": "c4471182",
   "metadata": {},
   "outputs": [
    {
     "name": "stdout",
     "output_type": "stream",
     "text": [
      "   Id  Price  Year  Mileage            City State                Vin   Make  \\\n",
      "0   1  16472  2015    18681  Jefferson City    MO  KL4CJBSBXFB267643  Buick   \n",
      "1   2  15749  2015    27592        Highland    IN  KL4CJASB5FB245057  Buick   \n",
      "2   3  16998  2015    13650           Boone    NC  KL4CJCSB0FB264921  Buick   \n",
      "3   4  15777  2015    25195     New Orleans    LA  KL4CJASB4FB217542  Buick   \n",
      "4   5  16784  2015    22800       Las Vegas    NV  KL4CJBSB3FB166881  Buick   \n",
      "\n",
      "               Model  \n",
      "0  EncoreConvenience  \n",
      "1          EncoreFWD  \n",
      "2      EncoreLeather  \n",
      "3          EncoreFWD  \n",
      "4  EncoreConvenience  \n"
     ]
    }
   ],
   "source": [
    "print(df.head())"
   ]
  },
  {
   "cell_type": "code",
   "execution_count": 5,
   "id": "18e619b9",
   "metadata": {},
   "outputs": [
    {
     "name": "stdout",
     "output_type": "stream",
     "text": [
      "   Price  Year  Mileage              City State                Vin   Make  \\\n",
      "0   8995  2014    35725           El Paso    TX  19VDE2E53EE000083  Acura   \n",
      "1  10888  2013    19606  Long Island City    NY  19VDE1F52DE012636  Acura   \n",
      "2   8995  2013    48851           El Paso    TX  19VDE2E52DE000025  Acura   \n",
      "3  10999  2014    39922           Windsor    CO  19VDE1F71EE003817  Acura   \n",
      "4  14799  2016    22142            Lindon    UT  19UDE2F32GA001284  Acura   \n",
      "\n",
      "          Model  \n",
      "0    ILX6-Speed  \n",
      "1    ILX5-Speed  \n",
      "2    ILX6-Speed  \n",
      "3    ILX5-Speed  \n",
      "4  ILXAutomatic  \n"
     ]
    }
   ],
   "source": [
    "print(df1.head())"
   ]
  },
  {
   "cell_type": "code",
   "execution_count": 6,
   "id": "acbbae07",
   "metadata": {},
   "outputs": [
    {
     "name": "stdout",
     "output_type": "stream",
     "text": [
      "(1216250, 9) (852122, 8)\n"
     ]
    }
   ],
   "source": [
    "print(df.shape,df1.shape)"
   ]
  },
  {
   "cell_type": "code",
   "execution_count": 7,
   "id": "190a3d36",
   "metadata": {},
   "outputs": [
    {
     "name": "stdout",
     "output_type": "stream",
     "text": [
      "Id          int64\n",
      "Price       int64\n",
      "Year        int64\n",
      "Mileage     int64\n",
      "City       object\n",
      "State      object\n",
      "Vin        object\n",
      "Make       object\n",
      "Model      object\n",
      "dtype: object\n"
     ]
    }
   ],
   "source": [
    "print(df.dtypes)"
   ]
  },
  {
   "cell_type": "code",
   "execution_count": 8,
   "id": "620c2394",
   "metadata": {},
   "outputs": [
    {
     "name": "stdout",
     "output_type": "stream",
     "text": [
      "Price       int64\n",
      "Year        int64\n",
      "Mileage     int64\n",
      "City       object\n",
      "State      object\n",
      "Vin        object\n",
      "Make       object\n",
      "Model      object\n",
      "dtype: object\n"
     ]
    }
   ],
   "source": [
    "print(df1.dtypes)"
   ]
  },
  {
   "cell_type": "markdown",
   "id": "32c88972",
   "metadata": {},
   "source": [
    "#              3. PREPROCESSING THE DATA"
   ]
  },
  {
   "cell_type": "markdown",
   "id": "2967bc41",
   "metadata": {},
   "source": [
    "### 3.1 Removing Id column from 1st dataset (df)"
   ]
  },
  {
   "cell_type": "code",
   "execution_count": 9,
   "id": "d4b74865",
   "metadata": {},
   "outputs": [
    {
     "name": "stdout",
     "output_type": "stream",
     "text": [
      "Index(['Price', 'Year', 'Mileage', 'City', 'State', 'Vin', 'Make', 'Model'], dtype='object')\n"
     ]
    }
   ],
   "source": [
    "df=df.iloc[:,1:]\n",
    "print(df.columns)"
   ]
  },
  {
   "cell_type": "markdown",
   "id": "1207bfc9",
   "metadata": {},
   "source": [
    "## 3.2 Merging the two datasets"
   ]
  },
  {
   "cell_type": "markdown",
   "id": "1e115b50",
   "metadata": {},
   "source": [
    "### 1. Did they having same features"
   ]
  },
  {
   "cell_type": "code",
   "execution_count": 10,
   "id": "3573c92b",
   "metadata": {},
   "outputs": [
    {
     "name": "stdout",
     "output_type": "stream",
     "text": [
      "[ True  True  True  True  True  True  True  True]\n"
     ]
    }
   ],
   "source": [
    "print(df.columns==df1.columns)"
   ]
  },
  {
   "cell_type": "markdown",
   "id": "efbc1a1a",
   "metadata": {},
   "source": [
    "### 2. Did they have same unit of each feature"
   ]
  },
  {
   "cell_type": "code",
   "execution_count": 11,
   "id": "dcda0746",
   "metadata": {},
   "outputs": [],
   "source": [
    "# THERE IS NO UNIT MENTIONED IN BOTH THE DATASETS OF COLUMN PRICE AND MILEAGE \n",
    "# SO ASSUMING THEY HAVE SAME UNIT"
   ]
  },
  {
   "cell_type": "markdown",
   "id": "269da4cd",
   "metadata": {},
   "source": [
    "## 3. Are datasets distributed properly"
   ]
  },
  {
   "cell_type": "code",
   "execution_count": 12,
   "id": "f70fa625",
   "metadata": {
    "scrolled": true
   },
   "outputs": [],
   "source": [
    "# IN THIS WE USE SAMPLING TO IDENTIFY THAT OUR DATASET IS BIASED OR NOT"
   ]
  },
  {
   "cell_type": "code",
   "execution_count": 13,
   "id": "519e739c",
   "metadata": {},
   "outputs": [],
   "source": [
    "samp = df.sample(n=10)"
   ]
  },
  {
   "cell_type": "code",
   "execution_count": 14,
   "id": "aaf0b1d2",
   "metadata": {},
   "outputs": [],
   "source": [
    "samp1=df1.sample(n=10)"
   ]
  },
  {
   "cell_type": "code",
   "execution_count": 15,
   "id": "7b9f7094",
   "metadata": {},
   "outputs": [
    {
     "data": {
      "text/html": [
       "<div>\n",
       "<style scoped>\n",
       "    .dataframe tbody tr th:only-of-type {\n",
       "        vertical-align: middle;\n",
       "    }\n",
       "\n",
       "    .dataframe tbody tr th {\n",
       "        vertical-align: top;\n",
       "    }\n",
       "\n",
       "    .dataframe thead th {\n",
       "        text-align: right;\n",
       "    }\n",
       "</style>\n",
       "<table border=\"1\" class=\"dataframe\">\n",
       "  <thead>\n",
       "    <tr style=\"text-align: right;\">\n",
       "      <th></th>\n",
       "      <th>Price</th>\n",
       "      <th>Year</th>\n",
       "      <th>Mileage</th>\n",
       "      <th>City</th>\n",
       "      <th>State</th>\n",
       "      <th>Vin</th>\n",
       "      <th>Make</th>\n",
       "      <th>Model</th>\n",
       "    </tr>\n",
       "  </thead>\n",
       "  <tbody>\n",
       "    <tr>\n",
       "      <th>294694</th>\n",
       "      <td>24985</td>\n",
       "      <td>2015</td>\n",
       "      <td>15153</td>\n",
       "      <td>Corpus Christi</td>\n",
       "      <td>TX</td>\n",
       "      <td>1N6AD0ER5FN724484</td>\n",
       "      <td>Nissan</td>\n",
       "      <td>FrontierCrew</td>\n",
       "    </tr>\n",
       "    <tr>\n",
       "      <th>886275</th>\n",
       "      <td>33606</td>\n",
       "      <td>2015</td>\n",
       "      <td>44724</td>\n",
       "      <td>Houston</td>\n",
       "      <td>TX</td>\n",
       "      <td>1C4HJWEG8FL621678</td>\n",
       "      <td>Jeep</td>\n",
       "      <td>Wrangler</td>\n",
       "    </tr>\n",
       "    <tr>\n",
       "      <th>831928</th>\n",
       "      <td>22827</td>\n",
       "      <td>2014</td>\n",
       "      <td>24464</td>\n",
       "      <td>Phoenix</td>\n",
       "      <td>AZ</td>\n",
       "      <td>JN1BV7AP3EM685838</td>\n",
       "      <td>INFINITI</td>\n",
       "      <td>Q50RWD</td>\n",
       "    </tr>\n",
       "    <tr>\n",
       "      <th>603732</th>\n",
       "      <td>15999</td>\n",
       "      <td>2015</td>\n",
       "      <td>31329</td>\n",
       "      <td>Hudson</td>\n",
       "      <td>WI</td>\n",
       "      <td>3FA6P0H71FR180899</td>\n",
       "      <td>Ford</td>\n",
       "      <td>FusionSE</td>\n",
       "    </tr>\n",
       "    <tr>\n",
       "      <th>306831</th>\n",
       "      <td>11995</td>\n",
       "      <td>2010</td>\n",
       "      <td>78734</td>\n",
       "      <td>Macomb</td>\n",
       "      <td>MI</td>\n",
       "      <td>JF2SH6CC1AH790424</td>\n",
       "      <td>Subaru</td>\n",
       "      <td>Forester4dr</td>\n",
       "    </tr>\n",
       "    <tr>\n",
       "      <th>507707</th>\n",
       "      <td>30500</td>\n",
       "      <td>2016</td>\n",
       "      <td>14832</td>\n",
       "      <td>Louisville</td>\n",
       "      <td>KY</td>\n",
       "      <td>1GCGTCE37G1195612</td>\n",
       "      <td>Chevrolet</td>\n",
       "      <td>ColoradoCrew</td>\n",
       "    </tr>\n",
       "    <tr>\n",
       "      <th>694939</th>\n",
       "      <td>9995</td>\n",
       "      <td>2007</td>\n",
       "      <td>161812</td>\n",
       "      <td>Montgomery</td>\n",
       "      <td>AL</td>\n",
       "      <td>1FMEU64807UA63448</td>\n",
       "      <td>Ford</td>\n",
       "      <td>Explorer2WD</td>\n",
       "    </tr>\n",
       "    <tr>\n",
       "      <th>903438</th>\n",
       "      <td>7997</td>\n",
       "      <td>2011</td>\n",
       "      <td>101477</td>\n",
       "      <td>San Diego</td>\n",
       "      <td>CA</td>\n",
       "      <td>5XYKT3A16BG007282</td>\n",
       "      <td>Kia</td>\n",
       "      <td>Sorento2WD</td>\n",
       "    </tr>\n",
       "    <tr>\n",
       "      <th>187168</th>\n",
       "      <td>21000</td>\n",
       "      <td>2011</td>\n",
       "      <td>71290</td>\n",
       "      <td>Beaverton</td>\n",
       "      <td>OR</td>\n",
       "      <td>WBAFU7C52BC879272</td>\n",
       "      <td>BMW</td>\n",
       "      <td>5</td>\n",
       "    </tr>\n",
       "    <tr>\n",
       "      <th>365451</th>\n",
       "      <td>5995</td>\n",
       "      <td>2007</td>\n",
       "      <td>174709</td>\n",
       "      <td>Simi Valley</td>\n",
       "      <td>CA</td>\n",
       "      <td>1HGFA168X7L078435</td>\n",
       "      <td>Honda</td>\n",
       "      <td>Civic</td>\n",
       "    </tr>\n",
       "  </tbody>\n",
       "</table>\n",
       "</div>"
      ],
      "text/plain": [
       "        Price  Year  Mileage            City State                Vin  \\\n",
       "294694  24985  2015    15153  Corpus Christi    TX  1N6AD0ER5FN724484   \n",
       "886275  33606  2015    44724         Houston    TX  1C4HJWEG8FL621678   \n",
       "831928  22827  2014    24464         Phoenix    AZ  JN1BV7AP3EM685838   \n",
       "603732  15999  2015    31329          Hudson    WI  3FA6P0H71FR180899   \n",
       "306831  11995  2010    78734          Macomb    MI  JF2SH6CC1AH790424   \n",
       "507707  30500  2016    14832      Louisville    KY  1GCGTCE37G1195612   \n",
       "694939   9995  2007   161812      Montgomery    AL  1FMEU64807UA63448   \n",
       "903438   7997  2011   101477       San Diego    CA  5XYKT3A16BG007282   \n",
       "187168  21000  2011    71290       Beaverton    OR  WBAFU7C52BC879272   \n",
       "365451   5995  2007   174709     Simi Valley    CA  1HGFA168X7L078435   \n",
       "\n",
       "             Make         Model  \n",
       "294694     Nissan  FrontierCrew  \n",
       "886275       Jeep      Wrangler  \n",
       "831928   INFINITI        Q50RWD  \n",
       "603732       Ford      FusionSE  \n",
       "306831     Subaru   Forester4dr  \n",
       "507707  Chevrolet  ColoradoCrew  \n",
       "694939       Ford   Explorer2WD  \n",
       "903438        Kia    Sorento2WD  \n",
       "187168        BMW             5  \n",
       "365451      Honda         Civic  "
      ]
     },
     "execution_count": 15,
     "metadata": {},
     "output_type": "execute_result"
    }
   ],
   "source": [
    "samp"
   ]
  },
  {
   "cell_type": "code",
   "execution_count": 16,
   "id": "0e526e30",
   "metadata": {},
   "outputs": [
    {
     "data": {
      "text/html": [
       "<div>\n",
       "<style scoped>\n",
       "    .dataframe tbody tr th:only-of-type {\n",
       "        vertical-align: middle;\n",
       "    }\n",
       "\n",
       "    .dataframe tbody tr th {\n",
       "        vertical-align: top;\n",
       "    }\n",
       "\n",
       "    .dataframe thead th {\n",
       "        text-align: right;\n",
       "    }\n",
       "</style>\n",
       "<table border=\"1\" class=\"dataframe\">\n",
       "  <thead>\n",
       "    <tr style=\"text-align: right;\">\n",
       "      <th></th>\n",
       "      <th>Price</th>\n",
       "      <th>Year</th>\n",
       "      <th>Mileage</th>\n",
       "      <th>City</th>\n",
       "      <th>State</th>\n",
       "      <th>Vin</th>\n",
       "      <th>Make</th>\n",
       "      <th>Model</th>\n",
       "    </tr>\n",
       "  </thead>\n",
       "  <tbody>\n",
       "    <tr>\n",
       "      <th>477411</th>\n",
       "      <td>42995</td>\n",
       "      <td>2014</td>\n",
       "      <td>40906</td>\n",
       "      <td>Bradenton</td>\n",
       "      <td>FL</td>\n",
       "      <td>JN8AZ2NF9E9551344</td>\n",
       "      <td>INFINITI</td>\n",
       "      <td>QX802WD</td>\n",
       "    </tr>\n",
       "    <tr>\n",
       "      <th>588149</th>\n",
       "      <td>9995</td>\n",
       "      <td>2010</td>\n",
       "      <td>105795</td>\n",
       "      <td>Dallas</td>\n",
       "      <td>TX</td>\n",
       "      <td>JM1BL1H37A1171814</td>\n",
       "      <td>Mazda</td>\n",
       "      <td>Mazda35dr</td>\n",
       "    </tr>\n",
       "    <tr>\n",
       "      <th>74342</th>\n",
       "      <td>21911</td>\n",
       "      <td>2014</td>\n",
       "      <td>57096</td>\n",
       "      <td>Colorado Springs</td>\n",
       "      <td>CO</td>\n",
       "      <td>1G6AX5SX0E0179027</td>\n",
       "      <td>Cadillac</td>\n",
       "      <td>CTS</td>\n",
       "    </tr>\n",
       "    <tr>\n",
       "      <th>500805</th>\n",
       "      <td>28995</td>\n",
       "      <td>2016</td>\n",
       "      <td>20788</td>\n",
       "      <td>Raynham</td>\n",
       "      <td>MA</td>\n",
       "      <td>1C4RJFAG2GC426722</td>\n",
       "      <td>Jeep</td>\n",
       "      <td>Grand</td>\n",
       "    </tr>\n",
       "    <tr>\n",
       "      <th>185409</th>\n",
       "      <td>54900</td>\n",
       "      <td>2015</td>\n",
       "      <td>40352</td>\n",
       "      <td>Fairfield</td>\n",
       "      <td>CA</td>\n",
       "      <td>1GC1KWE85FF627119</td>\n",
       "      <td>Chevrolet</td>\n",
       "      <td>Silverado</td>\n",
       "    </tr>\n",
       "    <tr>\n",
       "      <th>434091</th>\n",
       "      <td>13455</td>\n",
       "      <td>2017</td>\n",
       "      <td>17116</td>\n",
       "      <td>Pikeville</td>\n",
       "      <td>KY</td>\n",
       "      <td>5NPD74LF1HH139864</td>\n",
       "      <td>Hyundai</td>\n",
       "      <td>ElantraSE</td>\n",
       "    </tr>\n",
       "    <tr>\n",
       "      <th>82279</th>\n",
       "      <td>33902</td>\n",
       "      <td>2016</td>\n",
       "      <td>35807</td>\n",
       "      <td>Chesapeake</td>\n",
       "      <td>VA</td>\n",
       "      <td>2G61M5S36G9182996</td>\n",
       "      <td>Cadillac</td>\n",
       "      <td>XTSFWD</td>\n",
       "    </tr>\n",
       "    <tr>\n",
       "      <th>713552</th>\n",
       "      <td>27000</td>\n",
       "      <td>2011</td>\n",
       "      <td>64626</td>\n",
       "      <td>Colorado Springs</td>\n",
       "      <td>CO</td>\n",
       "      <td>1D7RV1CT9BS546135</td>\n",
       "      <td>Ram</td>\n",
       "      <td>15004WD</td>\n",
       "    </tr>\n",
       "    <tr>\n",
       "      <th>256195</th>\n",
       "      <td>15593</td>\n",
       "      <td>2015</td>\n",
       "      <td>12014</td>\n",
       "      <td>Bedford</td>\n",
       "      <td>OH</td>\n",
       "      <td>1FMCU0G72FUB52296</td>\n",
       "      <td>Ford</td>\n",
       "      <td>EscapeFWD</td>\n",
       "    </tr>\n",
       "    <tr>\n",
       "      <th>27460</th>\n",
       "      <td>15899</td>\n",
       "      <td>2007</td>\n",
       "      <td>28596</td>\n",
       "      <td>Englewood</td>\n",
       "      <td>CO</td>\n",
       "      <td>WBAVC73577KP35745</td>\n",
       "      <td>BMW</td>\n",
       "      <td>3</td>\n",
       "    </tr>\n",
       "  </tbody>\n",
       "</table>\n",
       "</div>"
      ],
      "text/plain": [
       "        Price  Year  Mileage              City State                Vin  \\\n",
       "477411  42995  2014    40906         Bradenton    FL  JN8AZ2NF9E9551344   \n",
       "588149   9995  2010   105795            Dallas    TX  JM1BL1H37A1171814   \n",
       "74342   21911  2014    57096  Colorado Springs    CO  1G6AX5SX0E0179027   \n",
       "500805  28995  2016    20788           Raynham    MA  1C4RJFAG2GC426722   \n",
       "185409  54900  2015    40352         Fairfield    CA  1GC1KWE85FF627119   \n",
       "434091  13455  2017    17116         Pikeville    KY  5NPD74LF1HH139864   \n",
       "82279   33902  2016    35807        Chesapeake    VA  2G61M5S36G9182996   \n",
       "713552  27000  2011    64626  Colorado Springs    CO  1D7RV1CT9BS546135   \n",
       "256195  15593  2015    12014           Bedford    OH  1FMCU0G72FUB52296   \n",
       "27460   15899  2007    28596         Englewood    CO  WBAVC73577KP35745   \n",
       "\n",
       "             Make      Model  \n",
       "477411   INFINITI    QX802WD  \n",
       "588149      Mazda  Mazda35dr  \n",
       "74342    Cadillac        CTS  \n",
       "500805       Jeep      Grand  \n",
       "185409  Chevrolet  Silverado  \n",
       "434091    Hyundai  ElantraSE  \n",
       "82279    Cadillac     XTSFWD  \n",
       "713552        Ram    15004WD  \n",
       "256195       Ford  EscapeFWD  \n",
       "27460         BMW          3  "
      ]
     },
     "execution_count": 16,
     "metadata": {},
     "output_type": "execute_result"
    }
   ],
   "source": [
    "samp1"
   ]
  },
  {
   "cell_type": "markdown",
   "id": "0b33e053",
   "metadata": {},
   "source": [
    "### Concating datasets"
   ]
  },
  {
   "cell_type": "code",
   "execution_count": 17,
   "id": "bd1d9f2c",
   "metadata": {},
   "outputs": [],
   "source": [
    "DF=pd.concat([df,df1])"
   ]
  },
  {
   "cell_type": "code",
   "execution_count": 18,
   "id": "7e61591f",
   "metadata": {},
   "outputs": [],
   "source": [
    "DF.to_csv('final.csv')"
   ]
  },
  {
   "cell_type": "code",
   "execution_count": 19,
   "id": "f2af9f7b",
   "metadata": {},
   "outputs": [
    {
     "name": "stdout",
     "output_type": "stream",
     "text": [
      "(2068372, 8)\n"
     ]
    }
   ],
   "source": [
    "print(DF.shape)"
   ]
  },
  {
   "cell_type": "markdown",
   "id": "1733b5bc",
   "metadata": {},
   "source": [
    "# 3.3 Columns Types"
   ]
  },
  {
   "cell_type": "code",
   "execution_count": 20,
   "id": "996bca37",
   "metadata": {},
   "outputs": [
    {
     "name": "stdout",
     "output_type": "stream",
     "text": [
      "Price       int64\n",
      "Year        int64\n",
      "Mileage     int64\n",
      "City       object\n",
      "State      object\n",
      "Vin        object\n",
      "Make       object\n",
      "Model      object\n",
      "dtype: object\n"
     ]
    }
   ],
   "source": [
    "print(DF.dtypes)"
   ]
  },
  {
   "cell_type": "markdown",
   "id": "ebd83a1d",
   "metadata": {},
   "source": [
    "# 3.4 Missing Data"
   ]
  },
  {
   "cell_type": "code",
   "execution_count": 21,
   "id": "fd3466ed",
   "metadata": {},
   "outputs": [
    {
     "name": "stdout",
     "output_type": "stream",
     "text": [
      "(array([], dtype=int64),)\n",
      "(array([], dtype=int64),)\n",
      "(array([], dtype=int64),)\n",
      "(array([], dtype=int64),)\n",
      "(array([], dtype=int64),)\n",
      "(array([], dtype=int64),)\n",
      "(array([], dtype=int64),)\n",
      "(array([], dtype=int64),)\n"
     ]
    }
   ],
   "source": [
    "for i in DF.columns:\n",
    "    result=DF[i].isnull().to_numpy().nonzero()\n",
    "    print(result)"
   ]
  },
  {
   "cell_type": "markdown",
   "id": "96f0a635",
   "metadata": {},
   "source": [
    "# # 3.5 Descriptive Analysis\n",
    "3.5.1 Numerical Features Analysis\n",
    "1\n",
    "##### There are three numerical features -\n",
    "2\n",
    "##### 1. Price\n",
    "3\n",
    "##### 2. Year\n",
    "4\n",
    "##### 3. Mileage"
   ]
  },
  {
   "cell_type": "code",
   "execution_count": 22,
   "id": "754e4bdf",
   "metadata": {},
   "outputs": [],
   "source": [
    "import pandas as pd\n",
    "import numpy as np\n",
    "import matplotlib.pyplot as plt"
   ]
  },
  {
   "cell_type": "code",
   "execution_count": 23,
   "id": "1269d83f",
   "metadata": {},
   "outputs": [
    {
     "name": "stdout",
     "output_type": "stream",
     "text": [
      "<bound method NDFrame.head of          Unnamed: 0  Price  Year  Mileage            City State  \\\n",
      "0                 0  16472  2015    18681  Jefferson City    MO   \n",
      "1                 1  15749  2015    27592        Highland    IN   \n",
      "2                 2  16998  2015    13650           Boone    NC   \n",
      "3                 3  15777  2015    25195     New Orleans    LA   \n",
      "4                 4  16784  2015    22800       Las Vegas    NV   \n",
      "...             ...    ...   ...      ...             ...   ...   \n",
      "2068367      852117  63215  2017        9     Culver City    CA   \n",
      "2068368      852118  72260  2017     3201       Englewood    NJ   \n",
      "2068369      852119  55999  2016    28941    Fort Collins    CO   \n",
      "2068370      852120  60240  2017     3005     San Leandro    CA   \n",
      "2068371      852121  76995  2017     2502        New York    NY   \n",
      "\n",
      "                       Vin   Make              Model  \n",
      "0        KL4CJBSBXFB267643  Buick  EncoreConvenience  \n",
      "1        KL4CJASB5FB245057  Buick          EncoreFWD  \n",
      "2        KL4CJCSB0FB264921  Buick      EncoreLeather  \n",
      "3        KL4CJASB4FB217542  Buick          EncoreFWD  \n",
      "4        KL4CJBSB3FB166881  Buick  EncoreConvenience  \n",
      "...                    ...    ...                ...  \n",
      "2068367  YV1A22MK9H1013237  Volvo              S90T6  \n",
      "2068368  YV4A22PL3H1186162  Volvo             XC90T6  \n",
      "2068369  YV4A22PL4G1000868  Volvo            XC90AWD  \n",
      "2068370  YV4A22NLXH1006162  Volvo                V90  \n",
      "2068371  YV4BC0ZX1H1109845  Volvo             XC90T8  \n",
      "\n",
      "[2068372 rows x 9 columns]>\n"
     ]
    }
   ],
   "source": [
    "DF=pd.read_csv('final.csv')\n",
    "print(DF.head)"
   ]
  },
  {
   "cell_type": "code",
   "execution_count": 24,
   "id": "08e839d1",
   "metadata": {},
   "outputs": [],
   "source": [
    "DF=DF.iloc[:,[1,2,3,4,5,6,7,8]]"
   ]
  },
  {
   "cell_type": "code",
   "execution_count": 25,
   "id": "1477e267",
   "metadata": {},
   "outputs": [],
   "source": [
    "set1=DF.iloc[:,[0,1,2]]"
   ]
  },
  {
   "cell_type": "code",
   "execution_count": 26,
   "id": "e67333d7",
   "metadata": {},
   "outputs": [
    {
     "data": {
      "text/html": [
       "<div>\n",
       "<style scoped>\n",
       "    .dataframe tbody tr th:only-of-type {\n",
       "        vertical-align: middle;\n",
       "    }\n",
       "\n",
       "    .dataframe tbody tr th {\n",
       "        vertical-align: top;\n",
       "    }\n",
       "\n",
       "    .dataframe thead th {\n",
       "        text-align: right;\n",
       "    }\n",
       "</style>\n",
       "<table border=\"1\" class=\"dataframe\">\n",
       "  <thead>\n",
       "    <tr style=\"text-align: right;\">\n",
       "      <th></th>\n",
       "      <th>Price</th>\n",
       "      <th>Year</th>\n",
       "      <th>Mileage</th>\n",
       "    </tr>\n",
       "  </thead>\n",
       "  <tbody>\n",
       "    <tr>\n",
       "      <th>0</th>\n",
       "      <td>16472</td>\n",
       "      <td>2015</td>\n",
       "      <td>18681</td>\n",
       "    </tr>\n",
       "    <tr>\n",
       "      <th>1</th>\n",
       "      <td>15749</td>\n",
       "      <td>2015</td>\n",
       "      <td>27592</td>\n",
       "    </tr>\n",
       "    <tr>\n",
       "      <th>2</th>\n",
       "      <td>16998</td>\n",
       "      <td>2015</td>\n",
       "      <td>13650</td>\n",
       "    </tr>\n",
       "    <tr>\n",
       "      <th>3</th>\n",
       "      <td>15777</td>\n",
       "      <td>2015</td>\n",
       "      <td>25195</td>\n",
       "    </tr>\n",
       "    <tr>\n",
       "      <th>4</th>\n",
       "      <td>16784</td>\n",
       "      <td>2015</td>\n",
       "      <td>22800</td>\n",
       "    </tr>\n",
       "  </tbody>\n",
       "</table>\n",
       "</div>"
      ],
      "text/plain": [
       "   Price  Year  Mileage\n",
       "0  16472  2015    18681\n",
       "1  15749  2015    27592\n",
       "2  16998  2015    13650\n",
       "3  15777  2015    25195\n",
       "4  16784  2015    22800"
      ]
     },
     "execution_count": 26,
     "metadata": {},
     "output_type": "execute_result"
    }
   ],
   "source": [
    "set1.head()"
   ]
  },
  {
   "cell_type": "markdown",
   "id": "1b1413ab",
   "metadata": {},
   "source": [
    "# 3.5.1.2.1 Removing Duplicate Vins"
   ]
  },
  {
   "cell_type": "code",
   "execution_count": 27,
   "id": "7bb4e933",
   "metadata": {},
   "outputs": [],
   "source": [
    "DF.drop_duplicates(subset ='Vin',keep = False, inplace = True)"
   ]
  },
  {
   "cell_type": "code",
   "execution_count": 28,
   "id": "7472e44e",
   "metadata": {},
   "outputs": [
    {
     "name": "stdout",
     "output_type": "stream",
     "text": [
      "(387401, 8)\n"
     ]
    }
   ],
   "source": [
    "print(DF.shape)"
   ]
  },
  {
   "cell_type": "markdown",
   "id": "d53166ec",
   "metadata": {},
   "source": [
    "### 3.5.1.2.2 Handling State names"
   ]
  },
  {
   "cell_type": "code",
   "execution_count": 29,
   "id": "af0e57b7",
   "metadata": {},
   "outputs": [
    {
     "name": "stdout",
     "output_type": "stream",
     "text": [
      "(387401, 8)\n"
     ]
    }
   ],
   "source": [
    "print(DF.shape)"
   ]
  },
  {
   "cell_type": "code",
   "execution_count": 30,
   "id": "aa6021b1",
   "metadata": {},
   "outputs": [
    {
     "data": {
      "text/plain": [
       "array([' IN', ' NY', ' CA', ' NC', ' TN', ' FL', ' TX', ' OK', ' GA',\n",
       "       ' OH', ' AZ', ' LA', ' Fl', ' NJ', ' MD', ' IL', ' WI', ' PA',\n",
       "       ' MA', ' KY', ' KS', ' RI', ' OR', ' AL', ' MS', ' MO', ' SC',\n",
       "       ' AR', ' VA', ' IA', ' NH', ' MI', ' NE', ' CO', ' ME', ' VT',\n",
       "       ' NV', ' UT', ' CT', ' WA', ' MN', ' NM', ' WY', ' WV', ' DE',\n",
       "       ' ND', ' AK', ' ID', ' HI', ' Ga', ' SD', ' MT', ' ga', ' Va',\n",
       "       ' Ca', ' Az', ' Md', ' Oh', ' DC'], dtype=object)"
      ]
     },
     "execution_count": 30,
     "metadata": {},
     "output_type": "execute_result"
    }
   ],
   "source": [
    "DF['State'].unique()"
   ]
  },
  {
   "cell_type": "code",
   "execution_count": 31,
   "id": "a227fcb3",
   "metadata": {},
   "outputs": [],
   "source": [
    "DF['State'] = DF['State'].str.upper()"
   ]
  },
  {
   "cell_type": "markdown",
   "id": "62d4e7d9",
   "metadata": {},
   "source": [
    "### 3.5.1.2.3 Uppercase the other columns"
   ]
  },
  {
   "cell_type": "code",
   "execution_count": 32,
   "id": "094ab300",
   "metadata": {},
   "outputs": [],
   "source": [
    "DF['City'] = DF['City'].str.upper()\n",
    "DF['Vin'] = DF['Vin'].str.upper()\n",
    "DF['Make'] = DF['Make'].str.upper()\n",
    "DF['Model'] = DF['Model'].str.upper()"
   ]
  },
  {
   "cell_type": "markdown",
   "id": "1edbe3c5",
   "metadata": {},
   "source": [
    "### 3.5.1.2.4 Diving into old and new sets"
   ]
  },
  {
   "cell_type": "code",
   "execution_count": 33,
   "id": "9a9fae5f",
   "metadata": {},
   "outputs": [
    {
     "name": "stdout",
     "output_type": "stream",
     "text": [
      "1997 2018\n"
     ]
    },
    {
     "data": {
      "text/html": [
       "<div>\n",
       "<style scoped>\n",
       "    .dataframe tbody tr th:only-of-type {\n",
       "        vertical-align: middle;\n",
       "    }\n",
       "\n",
       "    .dataframe tbody tr th {\n",
       "        vertical-align: top;\n",
       "    }\n",
       "\n",
       "    .dataframe thead th {\n",
       "        text-align: right;\n",
       "    }\n",
       "</style>\n",
       "<table border=\"1\" class=\"dataframe\">\n",
       "  <thead>\n",
       "    <tr style=\"text-align: right;\">\n",
       "      <th></th>\n",
       "      <th>Price</th>\n",
       "      <th>Year</th>\n",
       "      <th>Mileage</th>\n",
       "      <th>City</th>\n",
       "      <th>State</th>\n",
       "      <th>Vin</th>\n",
       "      <th>Make</th>\n",
       "      <th>Model</th>\n",
       "    </tr>\n",
       "  </thead>\n",
       "  <tbody>\n",
       "    <tr>\n",
       "      <th>516247</th>\n",
       "      <td>5993</td>\n",
       "      <td>1997</td>\n",
       "      <td>219132</td>\n",
       "      <td>OWASSO</td>\n",
       "      <td>OK</td>\n",
       "      <td>2G1FP32PXV2126348</td>\n",
       "      <td>CHEVROLET</td>\n",
       "      <td>CAMARO2DR</td>\n",
       "    </tr>\n",
       "    <tr>\n",
       "      <th>663331</th>\n",
       "      <td>3852</td>\n",
       "      <td>1997</td>\n",
       "      <td>178786</td>\n",
       "      <td>AUSTIN</td>\n",
       "      <td>TX</td>\n",
       "      <td>1FMCU22E7VUD45544</td>\n",
       "      <td>FORD</td>\n",
       "      <td>EXPLORERSPORT</td>\n",
       "    </tr>\n",
       "    <tr>\n",
       "      <th>992567</th>\n",
       "      <td>2500</td>\n",
       "      <td>1997</td>\n",
       "      <td>135459</td>\n",
       "      <td>ROGERS</td>\n",
       "      <td>AR</td>\n",
       "      <td>2MELM74W7VX621297</td>\n",
       "      <td>MERCURY</td>\n",
       "      <td>GRAND</td>\n",
       "    </tr>\n",
       "    <tr>\n",
       "      <th>988120</th>\n",
       "      <td>9500</td>\n",
       "      <td>1997</td>\n",
       "      <td>69480</td>\n",
       "      <td>HOUSTON</td>\n",
       "      <td>TX</td>\n",
       "      <td>WDBJF55F1VJ034087</td>\n",
       "      <td>MERCEDES-BENZ</td>\n",
       "      <td>E-CLASSE320</td>\n",
       "    </tr>\n",
       "  </tbody>\n",
       "</table>\n",
       "</div>"
      ],
      "text/plain": [
       "        Price  Year  Mileage     City State                Vin           Make  \\\n",
       "516247   5993  1997   219132   OWASSO    OK  2G1FP32PXV2126348      CHEVROLET   \n",
       "663331   3852  1997   178786   AUSTIN    TX  1FMCU22E7VUD45544           FORD   \n",
       "992567   2500  1997   135459   ROGERS    AR  2MELM74W7VX621297        MERCURY   \n",
       "988120   9500  1997    69480  HOUSTON    TX  WDBJF55F1VJ034087  MERCEDES-BENZ   \n",
       "\n",
       "                Model  \n",
       "516247      CAMARO2DR  \n",
       "663331  EXPLORERSPORT  \n",
       "992567          GRAND  \n",
       "988120    E-CLASSE320  "
      ]
     },
     "execution_count": 33,
     "metadata": {},
     "output_type": "execute_result"
    }
   ],
   "source": [
    "print(min(DF['Year']),max(DF['Year']))\n",
    "DF1=DF.sort_values(by=['Year'])\n",
    "DF1.head(4)"
   ]
  },
  {
   "cell_type": "code",
   "execution_count": 34,
   "id": "afd27ff4",
   "metadata": {},
   "outputs": [],
   "source": [
    "old_set = DF1[DF1['Year'] <= 2009]\n",
    "new_set=DF1[DF1['Year']>2009]"
   ]
  },
  {
   "cell_type": "markdown",
   "id": "5d353097",
   "metadata": {},
   "source": [
    "### 3.5.1.2.5 Excluding relatively not used cars"
   ]
  },
  {
   "cell_type": "code",
   "execution_count": 35,
   "id": "123f788d",
   "metadata": {},
   "outputs": [],
   "source": [
    "min_value = int(DF['Mileage'].quantile([0.10]))\n",
    "DF = DF[DF['Mileage'] > min_value]"
   ]
  },
  {
   "cell_type": "markdown",
   "id": "504998a7",
   "metadata": {},
   "source": [
    "###  3.5.1.2.6 Removing Vin Column"
   ]
  },
  {
   "cell_type": "code",
   "execution_count": 36,
   "id": "79e9ad50",
   "metadata": {},
   "outputs": [
    {
     "data": {
      "text/html": [
       "<div>\n",
       "<style scoped>\n",
       "    .dataframe tbody tr th:only-of-type {\n",
       "        vertical-align: middle;\n",
       "    }\n",
       "\n",
       "    .dataframe tbody tr th {\n",
       "        vertical-align: top;\n",
       "    }\n",
       "\n",
       "    .dataframe thead th {\n",
       "        text-align: right;\n",
       "    }\n",
       "</style>\n",
       "<table border=\"1\" class=\"dataframe\">\n",
       "  <thead>\n",
       "    <tr style=\"text-align: right;\">\n",
       "      <th></th>\n",
       "      <th>Price</th>\n",
       "      <th>Year</th>\n",
       "      <th>Mileage</th>\n",
       "      <th>City</th>\n",
       "      <th>State</th>\n",
       "      <th>Make</th>\n",
       "      <th>Model</th>\n",
       "    </tr>\n",
       "  </thead>\n",
       "  <tbody>\n",
       "    <tr>\n",
       "      <th>1</th>\n",
       "      <td>15749</td>\n",
       "      <td>2015</td>\n",
       "      <td>27592</td>\n",
       "      <td>HIGHLAND</td>\n",
       "      <td>IN</td>\n",
       "      <td>BUICK</td>\n",
       "      <td>ENCOREFWD</td>\n",
       "    </tr>\n",
       "    <tr>\n",
       "      <th>5</th>\n",
       "      <td>17020</td>\n",
       "      <td>2016</td>\n",
       "      <td>16877</td>\n",
       "      <td>GRAND ISLAND</td>\n",
       "      <td>NY</td>\n",
       "      <td>BUICK</td>\n",
       "      <td>ENCOREFWD</td>\n",
       "    </tr>\n",
       "    <tr>\n",
       "      <th>6</th>\n",
       "      <td>15950</td>\n",
       "      <td>2015</td>\n",
       "      <td>27885</td>\n",
       "      <td>WEST COVINA</td>\n",
       "      <td>CA</td>\n",
       "      <td>BUICK</td>\n",
       "      <td>ENCOREFWD</td>\n",
       "    </tr>\n",
       "    <tr>\n",
       "      <th>9</th>\n",
       "      <td>17700</td>\n",
       "      <td>2015</td>\n",
       "      <td>13807</td>\n",
       "      <td>JACKSONVILLE</td>\n",
       "      <td>NC</td>\n",
       "      <td>BUICK</td>\n",
       "      <td>ENCORECONVENIENCE</td>\n",
       "    </tr>\n",
       "    <tr>\n",
       "      <th>15</th>\n",
       "      <td>16699</td>\n",
       "      <td>2015</td>\n",
       "      <td>21323</td>\n",
       "      <td>CLEARWATER</td>\n",
       "      <td>FL</td>\n",
       "      <td>BUICK</td>\n",
       "      <td>ENCOREFWD</td>\n",
       "    </tr>\n",
       "  </tbody>\n",
       "</table>\n",
       "</div>"
      ],
      "text/plain": [
       "    Price  Year  Mileage          City State   Make              Model\n",
       "1   15749  2015    27592      HIGHLAND    IN  BUICK          ENCOREFWD\n",
       "5   17020  2016    16877  GRAND ISLAND    NY  BUICK          ENCOREFWD\n",
       "6   15950  2015    27885   WEST COVINA    CA  BUICK          ENCOREFWD\n",
       "9   17700  2015    13807  JACKSONVILLE    NC  BUICK  ENCORECONVENIENCE\n",
       "15  16699  2015    21323    CLEARWATER    FL  BUICK          ENCOREFWD"
      ]
     },
     "execution_count": 36,
     "metadata": {},
     "output_type": "execute_result"
    }
   ],
   "source": [
    "DF=DF.iloc[:,[0,1,2,3,4,6,7]]\n",
    "DF.head()"
   ]
  },
  {
   "cell_type": "markdown",
   "id": "b989e8de",
   "metadata": {},
   "source": [
    "# Feature Enigineering"
   ]
  },
  {
   "cell_type": "markdown",
   "id": "9ffd9b59",
   "metadata": {},
   "source": [
    "### 4.1 Car usage levels"
   ]
  },
  {
   "cell_type": "code",
   "execution_count": 37,
   "id": "93e20b9a",
   "metadata": {},
   "outputs": [
    {
     "data": {
      "text/plain": [
       "<seaborn.axisgrid.FacetGrid at 0x1a4352d77f0>"
      ]
     },
     "execution_count": 37,
     "metadata": {},
     "output_type": "execute_result"
    },
    {
     "data": {
      "image/png": "[encoded data removed]",
      "text/plain": [
       "<Figure size 360x360 with 1 Axes>"
      ]
     },
     "metadata": {
      "needs_background": "light"
     },
     "output_type": "display_data"
    }
   ],
   "source": [
    "import seaborn as sns\n",
    "sns.relplot(x=\"Year\", y=\"Mileage\",sizes=(30, 100), alpha=1,height=5, data=DF)"
   ]
  },
  {
   "cell_type": "markdown",
   "id": "985a6bc7",
   "metadata": {},
   "source": [
    "### 4.2 City Importance"
   ]
  },
  {
   "cell_type": "code",
   "execution_count": 38,
   "id": "e111c733",
   "metadata": {},
   "outputs": [
    {
     "data": {
      "text/plain": [
       "City\n",
       "RANCHO MIRAGE         63740.000000\n",
       "REDONDO BEACH         59888.000000\n",
       "NEWTOWN SQUARE        54235.348837\n",
       "DFW AIRPORT           52551.483871\n",
       "HUNTINGTON VALLEY     49908.333333\n",
       "                          ...     \n",
       "TUSCON                 5247.600000\n",
       "BELL                   4936.500000\n",
       "HIGHLAND SPRINGS       4345.000000\n",
       "COUNTRY CLUB HILLS     4295.000000\n",
       "EAST LANDSDOWNE        2435.000000\n",
       "Name: Price, Length: 2394, dtype: float64"
      ]
     },
     "execution_count": 38,
     "metadata": {},
     "output_type": "execute_result"
    }
   ],
   "source": [
    "\n",
    "grouped=DF.groupby('City')['Price'].mean().sort_values(ascending=False)\n",
    "grouped\n"
   ]
  },
  {
   "cell_type": "code",
   "execution_count": 39,
   "id": "4afdc48c",
   "metadata": {},
   "outputs": [
    {
     "data": {
      "text/plain": [
       "<matplotlib.collections.PathCollection at 0x1a44a5437c0>"
      ]
     },
     "execution_count": 39,
     "metadata": {},
     "output_type": "execute_result"
    },
    {
     "data": {
      "image/png": "[encoded data removed]",
      "text/plain": [
       "<Figure size 1440x720 with 1 Axes>"
      ]
     },
     "metadata": {
      "needs_background": "light"
     },
     "output_type": "display_data"
    }
   ],
   "source": [
    "plt.figure(figsize=(20,10))\n",
    "plt.scatter(x='State',y='Price',data=DF)"
   ]
  },
  {
   "cell_type": "code",
   "execution_count": null,
   "id": "4688e833",
   "metadata": {},
   "outputs": [],
   "source": []
  },
  {
   "cell_type": "markdown",
   "id": "305a199b",
   "metadata": {},
   "source": [
    "# 5 Answers\n"
   ]
  },
  {
   "cell_type": "markdown",
   "id": "0c75bd3b",
   "metadata": {},
   "source": [
    "### 5.1"
   ]
  },
  {
   "cell_type": "code",
   "execution_count": 68,
   "id": "5bc6129b",
   "metadata": {},
   "outputs": [],
   "source": [
    "old_cnt=old_set.groupby(['City']).size().reset_index(name ='Total Amount')\n",
    "new_cnt=new_set.groupby(['City']).size().reset_index(name ='Total Amount')"
   ]
  },
  {
   "cell_type": "code",
   "execution_count": 74,
   "id": "4ce9006c",
   "metadata": {},
   "outputs": [
    {
     "data": {
      "text/plain": [
       "[Text(0.5, 1.0, 'Old Set')]"
      ]
     },
     "execution_count": 74,
     "metadata": {},
     "output_type": "execute_result"
    },
    {
     "data": {
      "image/png": "[encoded data removed]",
      "text/plain": [
       "<Figure size 600x400 with 1 Axes>"
      ]
     },
     "metadata": {},
     "output_type": "display_data"
    }
   ],
   "source": [
    "import matplotlib.pyplot as plt\n",
    "plt.ylim(0, 7000)\n",
    "sns.lineplot(x='City',y='Total Amount', data=old_cnt ).set(title='Old Set')"
   ]
  },
  {
   "cell_type": "code",
   "execution_count": 73,
   "id": "c3583ce7",
   "metadata": {},
   "outputs": [
    {
     "data": {
      "text/plain": [
       "[Text(0.5, 1.0, 'New Set')]"
      ]
     },
     "execution_count": 73,
     "metadata": {},
     "output_type": "execute_result"
    },
    {
     "data": {
      "image/png": "[encoded data removed]",
      "text/plain": [
       "<Figure size 600x400 with 1 Axes>"
      ]
     },
     "metadata": {},
     "output_type": "display_data"
    }
   ],
   "source": [
    "sns.lineplot(x='City',y='Total Amount', data=new_cnt ).set(title='New Set')"
   ]
  },
  {
   "cell_type": "markdown",
   "id": "fa3b63d2",
   "metadata": {},
   "source": [
    "### 5.2"
   ]
  },
  {
   "cell_type": "code",
   "execution_count": 75,
   "id": "135640a2",
   "metadata": {},
   "outputs": [],
   "source": [
    "old_cnt=old_set.groupby(['State']).size().reset_index(name ='Total Amount')\n",
    "new_cnt=new_set.groupby(['State']).size().reset_index(name ='Total Amount')"
   ]
  },
  {
   "cell_type": "code",
   "execution_count": 80,
   "id": "dcd06e12",
   "metadata": {},
   "outputs": [
    {
     "ename": "TypeError",
     "evalue": "'AxesSubplot' object is not callable",
     "output_type": "error",
     "traceback": [
      "\u001b[1;31m---------------------------------------------------------------------------\u001b[0m",
      "\u001b[1;31mTypeError\u001b[0m                                 Traceback (most recent call last)",
      "\u001b[1;32m~\\AppData\\Local\\Temp/ipykernel_10332/1855471226.py\u001b[0m in \u001b[0;36m<module>\u001b[1;34m\u001b[0m\n\u001b[0;32m      1\u001b[0m \u001b[0max\u001b[0m \u001b[1;33m=\u001b[0m \u001b[0msns\u001b[0m\u001b[1;33m.\u001b[0m\u001b[0mlineplot\u001b[0m\u001b[1;33m(\u001b[0m\u001b[0mx\u001b[0m\u001b[1;33m=\u001b[0m\u001b[1;34m'State'\u001b[0m\u001b[1;33m,\u001b[0m\u001b[0my\u001b[0m\u001b[1;33m=\u001b[0m\u001b[1;34m'Total Amount'\u001b[0m\u001b[1;33m,\u001b[0m \u001b[0mdata\u001b[0m\u001b[1;33m=\u001b[0m\u001b[0mold_cnt\u001b[0m\u001b[1;33m,\u001b[0m\u001b[0mcolor\u001b[0m\u001b[1;33m=\u001b[0m\u001b[1;34m'red'\u001b[0m \u001b[1;33m)\u001b[0m\u001b[1;33m\u001b[0m\u001b[1;33m\u001b[0m\u001b[0m\n\u001b[1;32m----> 2\u001b[1;33m \u001b[0msns\u001b[0m\u001b[1;33m.\u001b[0m\u001b[0mlineplot\u001b[0m\u001b[1;33m(\u001b[0m\u001b[0mx\u001b[0m\u001b[1;33m=\u001b[0m\u001b[1;34m'State'\u001b[0m\u001b[1;33m,\u001b[0m\u001b[0my\u001b[0m\u001b[1;33m=\u001b[0m\u001b[1;34m'Total Amount'\u001b[0m\u001b[1;33m,\u001b[0m \u001b[0mdata\u001b[0m\u001b[1;33m=\u001b[0m\u001b[0mnew_cnt\u001b[0m\u001b[1;33m,\u001b[0m\u001b[0mcolor\u001b[0m\u001b[1;33m=\u001b[0m\u001b[1;34m'green'\u001b[0m \u001b[1;33m)\u001b[0m\u001b[1;33m(\u001b[0m\u001b[0max\u001b[0m\u001b[1;33m=\u001b[0m\u001b[0max\u001b[0m\u001b[1;33m)\u001b[0m\u001b[1;33m\u001b[0m\u001b[1;33m\u001b[0m\u001b[0m\n\u001b[0m\u001b[0;32m      3\u001b[0m \u001b[0msns\u001b[0m\u001b[1;33m.\u001b[0m\u001b[0mshow\u001b[0m\u001b[1;33m(\u001b[0m\u001b[1;33m)\u001b[0m\u001b[1;33m\u001b[0m\u001b[1;33m\u001b[0m\u001b[0m\n",
      "\u001b[1;31mTypeError\u001b[0m: 'AxesSubplot' object is not callable"
     ]
    },
    {
     "data": {
      "image/png": "[encoded data removed]",
      "text/plain": [
       "<Figure size 600x400 with 1 Axes>"
      ]
     },
     "metadata": {},
     "output_type": "display_data"
    }
   ],
   "source": [
    "ax = sns.lineplot(x='State',y='Total Amount', data=old_cnt,color='red' )\n",
    "sns.lineplot(x='State',y='Total Amount', data=new_cnt,color='green' )(ax=ax)\n",
    "sns.show()"
   ]
  },
  {
   "cell_type": "code",
   "execution_count": 44,
   "id": "96a2ec70",
   "metadata": {},
   "outputs": [
    {
     "data": {
      "application/vnd.jupyter.widget-view+json": {
       "model_id": "c0045b725bda43b986e9bf49e89b83d5",
       "version_major": 2,
       "version_minor": 0
      },
      "text/plain": [
       "                                             |                                             | [  0%]   00:00 ->…"
      ]
     },
     "metadata": {},
     "output_type": "display_data"
    },
    {
     "name": "stdout",
     "output_type": "stream",
     "text": [
      "Report SWEETVIZ_REPORT.html was generated! NOTEBOOK/COLAB USERS: the web browser MAY not pop up, regardless, the report IS saved in your notebook/colab files.\n"
     ]
    }
   ],
   "source": [
    "import sweetviz as sv\n",
    "my_report = sv.analyze(old_set)\n",
    "my_report.show_html()"
   ]
  },
  {
   "cell_type": "code",
   "execution_count": 45,
   "id": "5f464d2b",
   "metadata": {},
   "outputs": [
    {
     "data": {
      "application/vnd.jupyter.widget-view+json": {
       "model_id": "73f935c51b51499981cb8ae3f1ebb32d",
       "version_major": 2,
       "version_minor": 0
      },
      "text/plain": [
       "                                             |                                             | [  0%]   00:00 ->…"
      ]
     },
     "metadata": {},
     "output_type": "display_data"
    },
    {
     "name": "stdout",
     "output_type": "stream",
     "text": [
      "Report SWEETVIZ_REPORT.html was generated! NOTEBOOK/COLAB USERS: the web browser MAY not pop up, regardless, the report IS saved in your notebook/colab files.\n"
     ]
    }
   ],
   "source": [
    "import sweetviz as sv\n",
    "my_report = sv.analyze(new_set)\n",
    "my_report.show_html()"
   ]
  },
  {
   "cell_type": "code",
   "execution_count": 46,
   "id": "b9e55f22",
   "metadata": {},
   "outputs": [],
   "source": [
    "# in new set the price increases little bit"
   ]
  },
  {
   "cell_type": "code",
   "execution_count": 47,
   "id": "7353ab21",
   "metadata": {},
   "outputs": [],
   "source": [
    "# yes the state has a corellation ratio of 0.13"
   ]
  },
  {
   "cell_type": "code",
   "execution_count": 48,
   "id": "8725b92f",
   "metadata": {},
   "outputs": [],
   "source": [
    "# increases"
   ]
  },
  {
   "cell_type": "code",
   "execution_count": 49,
   "id": "9ee84fde",
   "metadata": {},
   "outputs": [],
   "source": [
    "# no relation between year and milage"
   ]
  },
  {
   "cell_type": "code",
   "execution_count": 84,
   "id": "9031d234",
   "metadata": {},
   "outputs": [
    {
     "data": {
      "text/plain": [
       "<AxesSubplot:xlabel='Year', ylabel='Price'>"
      ]
     },
     "execution_count": 84,
     "metadata": {},
     "output_type": "execute_result"
    },
    {
     "data": {
      "image/png": "[encoded data removed]",
      "text/plain": [
       "<Figure size 600x400 with 1 Axes>"
      ]
     },
     "metadata": {},
     "output_type": "display_data"
    }
   ],
   "source": [
    "sns.stripplot(x ='Year', y ='Price', data = DF,color='red')"
   ]
  },
  {
   "cell_type": "code",
   "execution_count": 85,
   "id": "ab44704e",
   "metadata": {},
   "outputs": [
    {
     "data": {
      "text/plain": [
       "<AxesSubplot:xlabel='Year', ylabel='Mileage'>"
      ]
     },
     "execution_count": 85,
     "metadata": {},
     "output_type": "execute_result"
    },
    {
     "data": {
      "image/png": "[encoded data removed]",
      "text/plain": [
       "<Figure size 2000x1000 with 1 Axes>"
      ]
     },
     "metadata": {},
     "output_type": "display_data"
    }
   ],
   "source": [
    "plt.figure(figsize=(20,10))\n",
    "sns.barplot(data=DF,x='Year',y='Mileage',color='black')"
   ]
  },
  {
   "cell_type": "code",
   "execution_count": null,
   "id": "61655e55",
   "metadata": {},
   "outputs": [],
   "source": []
  }
 ],
 "metadata": {
  "kernelspec": {
   "display_name": "Python 3 (ipykernel)",
   "language": "python",
   "name": "python3"
  },
  "language_info": {
   "codemirror_mode": {
    "name": "ipython",
    "version": 3
   },
   "file_extension": ".py",
   "mimetype": "text/x-python",
   "name": "python",
   "nbconvert_exporter": "python",
   "pygments_lexer": "ipython3",
   "version": "3.9.6"
  }
 },
 "nbformat": 4,
 "nbformat_minor": 5
}
